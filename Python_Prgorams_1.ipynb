{
 "cells": [
  {
   "cell_type": "markdown",
   "id": "93d8647c",
   "metadata": {},
   "source": [
    "# Program 1"
   ]
  },
  {
   "cell_type": "markdown",
   "id": "652d26de",
   "metadata": {},
   "source": [
    "### Write a Python program to print 'Hello World'"
   ]
  },
  {
   "cell_type": "code",
   "execution_count": 3,
   "id": "89181951",
   "metadata": {},
   "outputs": [
    {
     "name": "stdout",
     "output_type": "stream",
     "text": [
      "Hello World\n"
     ]
    }
   ],
   "source": [
    "print('Hello World')"
   ]
  },
  {
   "cell_type": "markdown",
   "id": "0a7acf54",
   "metadata": {},
   "source": [
    "# Program 2"
   ]
  },
  {
   "cell_type": "markdown",
   "id": "6dcb882b",
   "metadata": {},
   "source": [
    "### Write a Python program to do arithmetical operations addition and division"
   ]
  },
  {
   "cell_type": "code",
   "execution_count": 15,
   "id": "25b78252",
   "metadata": {},
   "outputs": [
    {
     "name": "stdout",
     "output_type": "stream",
     "text": [
      "Enter the value of num1 :56\n",
      "Enter the value of num2 :23\n",
      "The Sum of 56.0 and 23.0 : 79.0\n"
     ]
    }
   ],
   "source": [
    "#Addition\n",
    "\n",
    "num1 = float(input('Enter the value of num1 :'))\n",
    "num2 = float(input('Enter the value of num2 :'))\n",
    "sum_ = num1 + num2\n",
    "print(f'The Sum of {num1} and {num2} : {num1+num2}')"
   ]
  },
  {
   "cell_type": "code",
   "execution_count": 11,
   "id": "0284ca3f",
   "metadata": {},
   "outputs": [
    {
     "name": "stdout",
     "output_type": "stream",
     "text": [
      "Enter the value of num1 :5.0\n",
      "Enter the value of num2 :0.0\n",
      "Error.Division by zero is not allowed\n"
     ]
    }
   ],
   "source": [
    "#float_Division\n",
    "\n",
    "num1 = float(input('Enter the value of num1 :'))\n",
    "num2 = float(input('Enter the value of num2 :'))\n",
    "\n",
    "if num2 == 0:\n",
    "    print('Error.Division by zero is not allowed')\n",
    "else:\n",
    "    div_ = num1 / num2\n",
    "    print(f'{num1} divided by {num2} : {div_}')"
   ]
  },
  {
   "cell_type": "code",
   "execution_count": 12,
   "id": "c51f30d0",
   "metadata": {},
   "outputs": [
    {
     "name": "stdout",
     "output_type": "stream",
     "text": [
      "Enter the value of num1 :22\n",
      "Enter the value of num2 :12\n",
      "22.0 divided by 12.0 : 1.0\n"
     ]
    }
   ],
   "source": [
    "#Int_Division\n",
    "\n",
    "num1 = float(input('Enter the value of num1 :'))\n",
    "num2 = float(input('Enter the value of num2 :'))\n",
    "\n",
    "if num2 == 0:\n",
    "    print('Error.Division by zero is not allowed')\n",
    "else:\n",
    "    div_ = num1 // num2\n",
    "    print(f'{num1} divided by {num2} : {div_}')"
   ]
  },
  {
   "cell_type": "markdown",
   "id": "369859df",
   "metadata": {},
   "source": [
    "# Program 3"
   ]
  },
  {
   "cell_type": "markdown",
   "id": "0419f222",
   "metadata": {},
   "source": [
    "### Write a program to find the area of Triangle"
   ]
  },
  {
   "cell_type": "code",
   "execution_count": 14,
   "id": "a3a2903a",
   "metadata": {},
   "outputs": [
    {
     "name": "stdout",
     "output_type": "stream",
     "text": [
      "Enter height of the Triangle :4\n",
      "Enter base of the Triangle :3\n",
      "Area of Triangle with 4.0 and 3.0 : 6.0\n"
     ]
    }
   ],
   "source": [
    "#Get the values of height and base from user\n",
    "\n",
    "height = float(input('Enter height of the Triangle :'))\n",
    "base   = float(input('Enter base of the Triangle :'))\n",
    "#Calculate the area of triangle\n",
    "area = 0.5 * height * base\n",
    "\n",
    "print(f'Area of Triangle with {height} and {base} : {area}')"
   ]
  },
  {
   "cell_type": "markdown",
   "id": "35c755d8",
   "metadata": {},
   "source": [
    "# Program 4"
   ]
  },
  {
   "cell_type": "markdown",
   "id": "67802c27",
   "metadata": {},
   "source": [
    "### write a program to swap two variables"
   ]
  },
  {
   "cell_type": "code",
   "execution_count": 18,
   "id": "fc6f9829",
   "metadata": {},
   "outputs": [
    {
     "name": "stdout",
     "output_type": "stream",
     "text": [
      "Enter the value of num1 :6\n",
      "Enter the value of num2 :12\n",
      "Initial Values of num1 : 6 and num2 : 12\n",
      "After Swap Values of num1 : 12 and num2 : 6\n"
     ]
    }
   ],
   "source": [
    "#Get the values of two variables from user\n",
    "\n",
    "num1 = int(input('Enter the value of num1 :'))\n",
    "num2 = int(input('Enter the value of num2 :'))\n",
    "print(f'Initial Values of num1 : {num1} and num2 : {num2}')\n",
    "#swap two variables\n",
    "temp = num1\n",
    "num1  = num2\n",
    "num2 = temp\n",
    "print(f'After Swap Values of num1 : {num1} and num2 : {num2}')\n"
   ]
  },
  {
   "cell_type": "markdown",
   "id": "ffa2f8be",
   "metadata": {},
   "source": [
    "# Program 5"
   ]
  },
  {
   "cell_type": "markdown",
   "id": "745f4cd6",
   "metadata": {},
   "source": [
    "### write a program to generate a random number"
   ]
  },
  {
   "cell_type": "code",
   "execution_count": 21,
   "id": "f62fe40d",
   "metadata": {},
   "outputs": [
    {
     "name": "stdout",
     "output_type": "stream",
     "text": [
      "Random_number : 76\n"
     ]
    }
   ],
   "source": [
    "import random    #import random Library\n",
    "print(f\"Random_number : {random.randint(1,100)}\")"
   ]
  },
  {
   "cell_type": "markdown",
   "id": "d02d6639",
   "metadata": {},
   "source": [
    "# Program 6"
   ]
  },
  {
   "cell_type": "markdown",
   "id": "9636ad67",
   "metadata": {},
   "source": [
    "### write a program to cnovert kilometers to miles"
   ]
  },
  {
   "cell_type": "code",
   "execution_count": 1,
   "id": "187a2309",
   "metadata": {},
   "outputs": [
    {
     "name": "stdout",
     "output_type": "stream",
     "text": [
      "Enter Distance in kilometers :108\n",
      "108.0 kilometers is equal to 67.108068 miles\n"
     ]
    }
   ],
   "source": [
    "kilometers = float(input('Enter Distance in kilometers :'))\n",
    "\n",
    "# Conversion factor: 1 kilometer = 0.621371 miles\n",
    "conversion_factor = 0.621371\n",
    "miles = kilometers * conversion_factor\n",
    "\n",
    "print(f\"{kilometers} kilometers is equal to {miles} miles\")\n"
   ]
  },
  {
   "cell_type": "markdown",
   "id": "041738a5",
   "metadata": {},
   "source": [
    "# Program 7"
   ]
  },
  {
   "cell_type": "markdown",
   "id": "fb82e39e",
   "metadata": {},
   "source": [
    "### write a program to convert celsius to Fahrenheit"
   ]
  },
  {
   "cell_type": "code",
   "execution_count": 2,
   "id": "5cad119e",
   "metadata": {},
   "outputs": [
    {
     "name": "stdout",
     "output_type": "stream",
     "text": [
      "Enter temperature in Celsius: 100\n",
      "100.0 degrees Celsius is equal to 212.0 degrees Fahrenheit\n"
     ]
    }
   ],
   "source": [
    "celsius = float(input(\"Enter temperature in Celsius: \"))\n",
    "\n",
    "# Conversion formula: Fahrenheit = (Celsius * 9/5) + 32\n",
    "\n",
    "fahrenheit = (celsius * 9/5) + 32\n",
    "print(f\"{celsius} degrees Celsius is equal to {fahrenheit} degrees Fahrenheit\")"
   ]
  },
  {
   "cell_type": "markdown",
   "id": "7a148c9e",
   "metadata": {},
   "source": [
    "# Program 8"
   ]
  },
  {
   "cell_type": "markdown",
   "id": "a6d12a76",
   "metadata": {},
   "source": [
    "### write a program to display calendar"
   ]
  },
  {
   "cell_type": "code",
   "execution_count": 4,
   "id": "e4887db4",
   "metadata": {},
   "outputs": [
    {
     "name": "stdout",
     "output_type": "stream",
     "text": [
      "Enter the Year  :2024\n",
      "Etner the Month :2\n",
      "   February 2024\n",
      "Mo Tu We Th Fr Sa Su\n",
      "          1  2  3  4\n",
      " 5  6  7  8  9 10 11\n",
      "12 13 14 15 16 17 18\n",
      "19 20 21 22 23 24 25\n",
      "26 27 28 29\n",
      "\n"
     ]
    }
   ],
   "source": [
    "import calendar #importing calendar library\n",
    "\n",
    "Year  = int(input('Enter the Year  :'))\n",
    "Month = int(input('Etner the Month :'))\n",
    "\n",
    "#fetch the month of Year using calendar Library\n",
    "month = calendar.month(Year,Month)\n",
    "\n",
    "print(month)\n"
   ]
  },
  {
   "cell_type": "markdown",
   "id": "f63ebfd6",
   "metadata": {},
   "source": [
    "# Program 9"
   ]
  },
  {
   "cell_type": "markdown",
   "id": "23226fd5",
   "metadata": {},
   "source": [
    "### Write a Python program to solve quadratic equation.\n"
   ]
  },
  {
   "cell_type": "code",
   "execution_count": 6,
   "id": "c824c3bc",
   "metadata": {},
   "outputs": [
    {
     "name": "stdout",
     "output_type": "stream",
     "text": [
      "Enter coefficient a: 1\n",
      "Enter coefficient b: 8\n",
      "Enter coefficient c: 7\n",
      "Root 1: -1.0\n",
      "Root 2: -7.0\n"
     ]
    }
   ],
   "source": [
    "import math\n",
    "\n",
    "# Input coefficients\n",
    "a = float(input(\"Enter coefficient a: \"))\n",
    "b = float(input(\"Enter coefficient b: \"))\n",
    "c = float(input(\"Enter coefficient c: \"))\n",
    "\n",
    "# Calculate the discriminant\n",
    "discriminant = b**2 - 4*a*c\n",
    "# Check if the discriminant is positive, negative, or zero\n",
    "\n",
    "if discriminant > 0:\n",
    " # Two real and distinct roots\n",
    " root1 = (-b + math.sqrt(discriminant)) / (2*a)\n",
    " root2 = (-b - math.sqrt(discriminant)) / (2*a)\n",
    " print(f\"Root 1: {root1}\")\n",
    " print(f\"Root 2: {root2}\")\n",
    "\n",
    "elif discriminant == 0:\n",
    " # One real root (repeated)\n",
    " root = -b / (2*a)\n",
    " print(f\"Root: {root}\")\n",
    "\n",
    "else:\n",
    " # Complex roots\n",
    " real_part = -b / (2*a)\n",
    " imaginary_part = math.sqrt(abs(discriminant)) / (2*a)\n",
    " print(f\"Root 1: {real_part} + {imaginary_part}i\")\n",
    " print(f\"Root 2: {real_part} - {imaginary_part}i\")\n"
   ]
  },
  {
   "cell_type": "markdown",
   "id": "9a886665",
   "metadata": {},
   "source": [
    "# Program 10"
   ]
  },
  {
   "cell_type": "markdown",
   "id": "09bef59c",
   "metadata": {},
   "source": [
    "### write a program to swap two variables without using third variable"
   ]
  },
  {
   "cell_type": "code",
   "execution_count": 8,
   "id": "e77c0e0c",
   "metadata": {},
   "outputs": [
    {
     "name": "stdout",
     "output_type": "stream",
     "text": [
      "Enter the value of x :5\n",
      "Enter the value of y :8\n",
      "Initial Values of X and Y : 5 8\n",
      "Values of X and Y after Swap : 8 5\n"
     ]
    }
   ],
   "source": [
    "#method 1\n",
    "x = int(input('Enter the value of x :'))\n",
    "y = int(input('Enter the value of y :'))\n",
    "\n",
    "print('Initial Values of X and Y :',x,y)\n",
    "#swap the variables\n",
    "x,y = y,x\n",
    "\n",
    "print('Values of X and Y after Swap :',x,y)"
   ]
  },
  {
   "cell_type": "code",
   "execution_count": 9,
   "id": "9895b972",
   "metadata": {},
   "outputs": [
    {
     "ename": "SyntaxError",
     "evalue": "invalid syntax (2632573593.py, line 1)",
     "output_type": "error",
     "traceback": [
      "\u001b[1;36m  Cell \u001b[1;32mIn[9], line 1\u001b[1;36m\u001b[0m\n\u001b[1;33m    method 2\u001b[0m\n\u001b[1;37m           ^\u001b[0m\n\u001b[1;31mSyntaxError\u001b[0m\u001b[1;31m:\u001b[0m invalid syntax\n"
     ]
    }
   ],
   "source": [
    "method 2\n",
    "x = int(input('Enter the value of x :'))\n",
    "y = int(input('Enter the value of y :'))\n",
    "\n",
    "print('Initial Values of X and Y :',x,y)\n",
    "#swap the variables\n",
    "x \n",
    "print('Values of X and Y after Swap :',x,y)"
   ]
  },
  {
   "cell_type": "markdown",
   "id": "85c5e670",
   "metadata": {},
   "source": [
    "# Program 11"
   ]
  },
  {
   "cell_type": "markdown",
   "id": "782110c1",
   "metadata": {},
   "source": [
    "### write a program to check if a number is positive,negative or zero"
   ]
  },
  {
   "cell_type": "code",
   "execution_count": 11,
   "id": "e2f040c7",
   "metadata": {},
   "outputs": [
    {
     "name": "stdout",
     "output_type": "stream",
     "text": [
      "number :-9\n",
      "-9 is negative_number\n"
     ]
    }
   ],
   "source": [
    "num = int(input('number :'))\n",
    "\n",
    "if num>0 :\n",
    "    print(f'{num} is Positive_number')\n",
    "\n",
    "elif num == 0:\n",
    "    print(f'{num} is Zero')\n",
    "\n",
    "else:\n",
    "    print(f'{num} is negative_number')\n",
    "    \n"
   ]
  },
  {
   "cell_type": "markdown",
   "id": "30b38e87",
   "metadata": {},
   "source": [
    "# Program 12"
   ]
  },
  {
   "cell_type": "markdown",
   "id": "6eab0227",
   "metadata": {},
   "source": [
    "### write a program to check if a number is Odd or Even."
   ]
  },
  {
   "cell_type": "code",
   "execution_count": 13,
   "id": "7aebefd5",
   "metadata": {},
   "outputs": [
    {
     "name": "stdout",
     "output_type": "stream",
     "text": [
      "number : 5\n",
      "5 is Odd_number\n"
     ]
    }
   ],
   "source": [
    "num = int(input('number : '))\n",
    "\n",
    "if num % 2 == 0:\n",
    "    print(f'{num} is Even_number')\n",
    "else:\n",
    "    print(f'{num} is Odd_number')    "
   ]
  },
  {
   "cell_type": "markdown",
   "id": "dc4ca76f",
   "metadata": {},
   "source": [
    "# Program 13"
   ]
  },
  {
   "cell_type": "markdown",
   "id": "5c4d6459",
   "metadata": {},
   "source": [
    "### write a program to check if Year is LeapYear or not"
   ]
  },
  {
   "cell_type": "code",
   "execution_count": 15,
   "id": "7298d093",
   "metadata": {},
   "outputs": [
    {
     "name": "stdout",
     "output_type": "stream",
     "text": [
      "Enter a year: 2023\n",
      "2023 is not a leap year\n"
     ]
    }
   ],
   "source": [
    "year = int(input(\"Enter a year: \"))\n",
    "\n",
    "# divided by 100 means century year (ending with 00)\n",
    "# century year divided by 400 is leap year\n",
    "\n",
    "if (year % 400 == 0) and (year % 100 == 0):\n",
    " print(\"{0} is a leap year\".format(year))\n",
    "\n",
    "# not divided by 100 means not a century year\n",
    "# year divided by 4 is a leap year\n",
    "\n",
    "elif (year % 4 ==0) and (year % 100 != 0):\n",
    " print(\"{0} is a leap year\".format(year))\n",
    "\n",
    "# if not divided by both 400 (century year) and 4 (not century year)\n",
    "# year is not leap year\n",
    "\n",
    "else:\n",
    " print(\"{0} is not a leap year\".format(year))"
   ]
  },
  {
   "cell_type": "markdown",
   "id": "13811c85",
   "metadata": {},
   "source": [
    "# Program 14"
   ]
  },
  {
   "cell_type": "markdown",
   "id": "b7698acc",
   "metadata": {},
   "source": [
    "### write a program to check if number is prime or not"
   ]
  },
  {
   "cell_type": "markdown",
   "id": "b7abc450",
   "metadata": {},
   "source": [
    "### Prime numbers"
   ]
  },
  {
   "cell_type": "markdown",
   "id": "07124bb3",
   "metadata": {},
   "source": [
    "A prime number is a whole number that cannot be evenly divided by any other number\n",
    "except for 1 and itself. For example, 2, 3, 5, 7, 11, and 13 are prime numbers because they\n",
    "cannot be divided by any other positive integer except for 1 and their own value"
   ]
  },
  {
   "cell_type": "code",
   "execution_count": 25,
   "id": "7153f12a",
   "metadata": {},
   "outputs": [
    {
     "name": "stdout",
     "output_type": "stream",
     "text": [
      "NUMBER : 2\n",
      "2 is a prime_number\n"
     ]
    }
   ],
   "source": [
    "#code for checkimg the number is prime or not\n",
    "\n",
    "num = int(input('NUMBER : '))\n",
    "\n",
    "#consider a flag value and let flag be TRUE Such that True Indicates the number is Prime\n",
    "flag = True\n",
    "\n",
    "if num == 1:\n",
    "    print(f'{num} is not a prime number')\n",
    "elif num > 1:\n",
    "    for i in range(2,num):\n",
    "        if num % i == 0:\n",
    "            flag = False\n",
    "            break\n",
    "if flag:\n",
    "    print(f'{num} is a prime_number')\n",
    "else:\n",
    "    print(f'{num} is not a prime_number')\n",
    "    "
   ]
  },
  {
   "cell_type": "markdown",
   "id": "5db821c4",
   "metadata": {},
   "source": [
    "# Program 15"
   ]
  },
  {
   "cell_type": "markdown",
   "id": "92a36088",
   "metadata": {},
   "source": [
    "### write a program to print all prime number in a given interval"
   ]
  },
  {
   "cell_type": "code",
   "execution_count": 39,
   "id": "9bd4a75b",
   "metadata": {},
   "outputs": [
    {
     "name": "stdout",
     "output_type": "stream",
     "text": [
      "Upper_Limit :1\n",
      "Lower_Limit :20\n",
      "2 3 5 7 11 13 17 19 "
     ]
    }
   ],
   "source": [
    "upper_limit = int(input('Upper_Limit :')) \n",
    "lower_limit = int(input('Lower_Limit :'))\n",
    "\n",
    "#consider a flag value and let flag be TRUE Such that True Indicates the number is Prime\n",
    "flag = True\n",
    "\n",
    "for num in range(upper_limit,lower_limit+1):\n",
    "    if num == 1:\n",
    "        pass\n",
    "    else:\n",
    "        for i in range(2,num):\n",
    "            if num % i == 0:\n",
    "                flag = False\n",
    "                break\n",
    "        if flag:\n",
    "            print(num , end = ' ')\n",
    "        flag = True"
   ]
  },
  {
   "cell_type": "code",
   "execution_count": 44,
   "id": "ec496bf9",
   "metadata": {},
   "outputs": [
    {
     "name": "stdout",
     "output_type": "stream",
     "text": [
      "Prime numbers between 1 and 10 are:\n",
      "2\n",
      "3\n",
      "5\n",
      "7\n"
     ]
    }
   ],
   "source": [
    "lower = 1\n",
    "upper = 10\n",
    "print(\"Prime numbers between\", lower, \"and\", upper, \"are:\")\n",
    "for num in range(lower, upper + 1):\n",
    "    if num > 1:\n",
    "        for i in range(2, num):\n",
    "            if (num % i) == 0:\n",
    "                break\n",
    "        else:\n",
    "            print(num)\n"
   ]
  },
  {
   "cell_type": "code",
   "execution_count": null,
   "id": "d116e079",
   "metadata": {},
   "outputs": [],
   "source": []
  }
 ],
 "metadata": {
  "kernelspec": {
   "display_name": "Python 3 (ipykernel)",
   "language": "python",
   "name": "python3"
  },
  "language_info": {
   "codemirror_mode": {
    "name": "ipython",
    "version": 3
   },
   "file_extension": ".py",
   "mimetype": "text/x-python",
   "name": "python",
   "nbconvert_exporter": "python",
   "pygments_lexer": "ipython3",
   "version": "3.11.5"
  }
 },
 "nbformat": 4,
 "nbformat_minor": 5
}
