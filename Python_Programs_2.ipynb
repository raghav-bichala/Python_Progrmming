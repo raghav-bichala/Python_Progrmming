{
 "cells": [
  {
   "cell_type": "markdown",
   "id": "202b9154-e77c-46aa-9009-528521b1415a",
   "metadata": {},
   "source": [
    "# Python_Basic_Programs_II"
   ]
  },
  {
   "cell_type": "markdown",
   "id": "472aa427-20b4-4bd1-82c2-ba1192c3c60f",
   "metadata": {},
   "source": [
    "## Program 16"
   ]
  },
  {
   "cell_type": "markdown",
   "id": "8a06ffe8-4183-4acc-9de8-6fa09ac8000e",
   "metadata": {},
   "source": [
    "#### write a python program to find factorial of a number"
   ]
  },
  {
   "cell_type": "code",
   "execution_count": null,
   "id": "2a25bb76-fa93-4d88-bb5d-2d492065d99c",
   "metadata": {},
   "outputs": [],
   "source": [
    "num = int(input('number : '))\n",
    "fact = 1\n",
    "\n",
    "if num < 0:\n",
    "    print(\"Factorial Doesn't exist for numbers less than zero\")\n",
    "elif num == 0 or num == 1:\n",
    "    print(f'factorial of {num} = 1 ')\n",
    "else:\n",
    "    for i in range(1,num+1):\n",
    "        fact *= i\n",
    "    print(f'factorial of {num} = {fact}')\n",
    "\n"
   ]
  },
  {
   "cell_type": "markdown",
   "id": "ae87044d-4d36-470f-bcd7-0931a116be9c",
   "metadata": {},
   "source": [
    "## Program 17"
   ]
  },
  {
   "cell_type": "markdown",
   "id": "a21658f0-fe25-4a81-80fe-769ecd28c832",
   "metadata": {},
   "source": [
    "#### write a program to display multiplication Table"
   ]
  },
  {
   "cell_type": "code",
   "execution_count": 11,
   "id": "9f09d978-4b2f-4937-803b-840e53d0096c",
   "metadata": {},
   "outputs": [
    {
     "name": "stdin",
     "output_type": "stream",
     "text": [
      "number :  9\n"
     ]
    },
    {
     "name": "stdout",
     "output_type": "stream",
     "text": [
      " 9 X 1 = 9\n",
      " 9 X 2 = 18\n",
      " 9 X 3 = 27\n",
      " 9 X 4 = 36\n",
      " 9 X 5 = 45\n",
      " 9 X 6 = 54\n",
      " 9 X 7 = 63\n",
      " 9 X 8 = 72\n",
      " 9 X 9 = 81\n",
      " 9 X 10 = 90\n"
     ]
    }
   ],
   "source": [
    "num = int(input('number : '))\n",
    "for i in range(1,11):\n",
    "    print(f' {num} X {i} = {num * i }')\n"
   ]
  },
  {
   "cell_type": "markdown",
   "id": "ff8a9975-e0f5-497a-a31e-43814d0782a3",
   "metadata": {},
   "source": [
    "## Program 18"
   ]
  },
  {
   "cell_type": "markdown",
   "id": "0fd841f3-db2f-4b70-8aba-f7104a8260a4",
   "metadata": {},
   "source": [
    "#### write a program to print fibonacci Series"
   ]
  },
  {
   "cell_type": "code",
   "execution_count": 21,
   "id": "a2a92a3a-c72f-4f68-830f-53874853e4bb",
   "metadata": {},
   "outputs": [
    {
     "name": "stdin",
     "output_type": "stream",
     "text": [
      "Enter the length of Fibonacci Series :  12\n"
     ]
    },
    {
     "name": "stdout",
     "output_type": "stream",
     "text": [
      "Fibonacci series:\n",
      "0 1 1 2 3 5 8 13 21 34 55 89 "
     ]
    }
   ],
   "source": [
    "length = int(input('Enter the length of Fibonacci Series : '))\n",
    "\n",
    "n1 , n2 = 0 ,1\n",
    "count = 0\n",
    "\n",
    "\n",
    "if length == 1 :\n",
    "    print(f'fibonacci Series of length {length} = {n1}')\n",
    "else:\n",
    "    print(\"Fibonacci series:\")\n",
    "    while count < length:\n",
    "        print(n1 ,end= ' ')\n",
    "        nth = n1 + n2\n",
    "        n1 = n2\n",
    "        n2 = nth\n",
    "        count += 1\n",
    "    \n",
    "    "
   ]
  },
  {
   "cell_type": "markdown",
   "id": "22663ea2-a432-422f-9bd0-4a1495e0b624",
   "metadata": {},
   "source": [
    "## Program 19"
   ]
  },
  {
   "cell_type": "markdown",
   "id": "55419e5e-7636-466a-88e7-802799c61ad6",
   "metadata": {},
   "source": [
    "#### write a program to check if number is Armstrong number or not"
   ]
  },
  {
   "cell_type": "code",
   "execution_count": 30,
   "id": "abf475e9-02e5-4240-94be-1af1fe1da3f2",
   "metadata": {},
   "outputs": [
    {
     "name": "stdin",
     "output_type": "stream",
     "text": [
      "number =  153\n"
     ]
    },
    {
     "name": "stdout",
     "output_type": "stream",
     "text": [
      "153 is ArmStrong_number\n"
     ]
    }
   ],
   "source": [
    "num = int(input('number = '))\n",
    "length = len(str(num))\n",
    "\n",
    "res = 0\n",
    "temp = num\n",
    "while temp != 0:\n",
    "    res = (temp % 10 ) ** length + res\n",
    "    temp = temp // 10\n",
    "\n",
    "if res == num :\n",
    "    print(f'{num} is ArmStrong_number')\n",
    "else:\n",
    "    print(f'{num} is not an ArmStrong_number')\n",
    "    "
   ]
  },
  {
   "cell_type": "markdown",
   "id": "165808a6-b699-4713-b849-d43cd501dcb5",
   "metadata": {},
   "source": [
    "## Program 20"
   ]
  },
  {
   "cell_type": "markdown",
   "id": "f9c518a8-c6ec-4016-bd1b-7dd81fa1b588",
   "metadata": {},
   "source": [
    "#### write a program to print all ArmStronG numbers in a Given Interval"
   ]
  },
  {
   "cell_type": "code",
   "execution_count": 33,
   "id": "c4e25dfc-401b-4742-b183-2b38be8fb7e8",
   "metadata": {},
   "outputs": [
    {
     "name": "stdin",
     "output_type": "stream",
     "text": [
      "Upper_Limit :  100\n",
      "lower_Limit :  10000\n"
     ]
    },
    {
     "name": "stdout",
     "output_type": "stream",
     "text": [
      "153 370 371 407 1634 8208 9474 "
     ]
    }
   ],
   "source": [
    "upp_lim = int(input('Upper_Limit : '))\n",
    "low_lim = int(input('lower_Limit : '))\n",
    "\n",
    "for num in range(upp_lim,low_lim+1):\n",
    "    length = len(str(num))\n",
    "    res,temp = 0,num\n",
    "    \n",
    "    while temp != 0:\n",
    "        res = (temp % 10 ) ** length + res\n",
    "        temp = temp // 10\n",
    "    \n",
    "    if res == num :\n",
    "        print( num , end = ' ')\n"
   ]
  },
  {
   "cell_type": "markdown",
   "id": "9a4fcb82-d6fd-433e-a0a9-a61a77c110d6",
   "metadata": {},
   "source": [
    "## Program 21"
   ]
  },
  {
   "cell_type": "markdown",
   "id": "018fbd1d-0e04-4d11-8077-18ff2d96a603",
   "metadata": {},
   "source": [
    "#### write a program to find sum of n natural numbers"
   ]
  },
  {
   "cell_type": "code",
   "execution_count": 37,
   "id": "f1fadfd6-5015-47f2-8fab-94da22ca53d6",
   "metadata": {},
   "outputs": [
    {
     "name": "stdin",
     "output_type": "stream",
     "text": [
      "Enter the value of n, To find sum_of_n_natural_no's : 24\n"
     ]
    },
    {
     "name": "stdout",
     "output_type": "stream",
     "text": [
      "sum_of_n_natural_numbers =  300\n"
     ]
    }
   ],
   "source": [
    "n = int(input(\"Enter the value of n, To find sum_of_n_natural_no's :\"))\n",
    "\n",
    "sum_of_n_natural_numbers = 0\n",
    "\n",
    "for num in range(1,n+1):\n",
    "    sum_of_n_natural_numbers += num\n",
    "\n",
    "print('sum_of_n_natural_numbers = ',sum_of_n_natural_numbers)\n"
   ]
  },
  {
   "cell_type": "markdown",
   "id": "1bf57e6a-4c55-4753-b8f4-fec652047fc6",
   "metadata": {},
   "source": [
    "## Program 22"
   ]
  },
  {
   "cell_type": "markdown",
   "id": "35b0b02f-3186-4beb-beed-2903e88f840a",
   "metadata": {},
   "source": [
    "#### write a program to find the ASCII value of a character"
   ]
  },
  {
   "cell_type": "raw",
   "id": "46c1fa72-3553-45e4-bf44-2cd213e079f4",
   "metadata": {},
   "source": [
    "char = input('Enter any character : ')\n",
    "\n",
    "print(f'THE ASCII VALUE OF {char} : {ord(char)}')\n"
   ]
  },
  {
   "cell_type": "markdown",
   "id": "ccfaba30-d2e8-4ede-afac-cbbf6320e584",
   "metadata": {},
   "source": [
    "## Program 23"
   ]
  },
  {
   "cell_type": "markdown",
   "id": "58bceb7c-f52b-4052-906b-afba4cdb2405",
   "metadata": {},
   "source": [
    "#### Write a Python Program to Make a Simple Calculator with 4 basic mathematical operations."
   ]
  },
  {
   "cell_type": "code",
   "execution_count": 1,
   "id": "2eba08d4-0678-491d-aefd-ba42dd5c14c5",
   "metadata": {},
   "outputs": [
    {
     "name": "stdout",
     "output_type": "stream",
     "text": [
      "Basic_CalCulator :  [ + ] [ - ] [ X ] [ / ] [ % ] [ // ] "
     ]
    },
    {
     "name": "stdin",
     "output_type": "stream",
     "text": [
      "Enter the Operation :  +\n",
      "num1 :  5\n",
      "num2 :  6\n"
     ]
    },
    {
     "name": "stdout",
     "output_type": "stream",
     "text": [
      "5.0 + 6.0 = 11.0\n"
     ]
    },
    {
     "name": "stdin",
     "output_type": "stream",
     "text": [
      "Let's do next calculation? (yes/no): no\n"
     ]
    },
    {
     "name": "stdout",
     "output_type": "stream",
     "text": [
      "ThanK_ You \n"
     ]
    }
   ],
   "source": [
    "def add(x,y):                   #fun returns sum of two numbers\n",
    "    return x+y\n",
    "\n",
    "def diff(x,y):                  #fun returns difference of two numbers\n",
    "    return x - y\n",
    "\n",
    "def multiply(x,y):              #fun returns product of two numbers\n",
    "    return x * y\n",
    "\n",
    "def divide(x,y):              #fun returns division of two numbers\n",
    "    return x // y\n",
    "\n",
    "def modular(x,y):\n",
    "    return x % y\n",
    "\n",
    "def floor_division(x,y):\n",
    "    return x // y\n",
    "\n",
    "print('Basic_CalCulator : ',end = ' ')\n",
    "print('[ + ]',end = ' ')\n",
    "print('[ - ]',end = ' ')\n",
    "print('[ X ]',end = ' ')\n",
    "print('[ / ]',end = ' ')\n",
    "print('[ % ]',end = ' ')\n",
    "print('[ // ]',end = ' ')\n",
    "\n",
    "\n",
    "while True:\n",
    "    operation= input('Enter the Operation : ')\n",
    "\n",
    "    if operation in ('+' , '-','*','/','%','//'):\n",
    "        num1 = float(input('num1 : '))\n",
    "        num2 = float(input('num2 : '))\n",
    "        \n",
    "        if operation == '+':\n",
    "            print(num1, \"+\", num2, \"=\", add(num1, num2))\n",
    "        elif operation == '-':\n",
    "            print(num1, \"-\", num2, \"=\", diff(num1, num2))\n",
    "        elif operation == 'X':\n",
    "            print(num1, \"X\", num2, \"=\", multiply(num1, num2))\n",
    "        elif operation == '/':\n",
    "            print(num1, \"/\", num2, \"=\", divide(num1, num2))\n",
    "        elif operation == '%':\n",
    "            print(num1, \"%\", num2, \"=\", modular(num1, num2))\n",
    "        elif operation == '//':\n",
    "            print(num1, \"//\", num2, \"=\", floor_division(num1, num2))\n",
    "        # check if user wants another calculation\n",
    "        # break the while loop if answer is no\n",
    "        next_calculation = input(\"Let's do next calculation? (yes/no):\") \n",
    "        if next_calculation == \"no\":\n",
    "            print('ThanK_ You ')\n",
    "            break\n",
    "    else:\n",
    "        print(\"Invalid Input\")\n",
    "        \n",
    "         \n",
    "\n"
   ]
  },
  {
   "cell_type": "markdown",
   "id": "ec0dfe35-d238-45db-a50e-d5a5ec04ceae",
   "metadata": {},
   "source": [
    "## Program 24"
   ]
  },
  {
   "cell_type": "markdown",
   "id": "c792b79f-02e8-4664-98e9-77fa9d7d03d9",
   "metadata": {},
   "source": [
    "#### write a program to print fibonacci series using recursion"
   ]
  },
  {
   "cell_type": "code",
   "execution_count": 58,
   "id": "4c381fd0-6065-4f35-853e-8ca63cdce64a",
   "metadata": {},
   "outputs": [
    {
     "name": "stdout",
     "output_type": "stream",
     "text": [
      "Printing Fibonacci Series of nterms ; Where nterms must be greater than 0 \n"
     ]
    },
    {
     "name": "stdin",
     "output_type": "stream",
     "text": [
      "Enter no.of Terms : 12\n"
     ]
    },
    {
     "name": "stdout",
     "output_type": "stream",
     "text": [
      "Fibonacci Series :  0 1 1 2 3 5 8 13 21 34 55 89 "
     ]
    }
   ],
   "source": [
    "def rec_fib(num):\n",
    "    if num <= 1:\n",
    "        return num\n",
    "    return rec_fib(num-1) + rec_fib(num-2)\n",
    "\n",
    "print('Printing Fibonacci Series of nterms ; Where nterms must be greater than 0 ')\n",
    "\n",
    "nterms = int(input('Enter no.of Terms :'))\n",
    "print('Fibonacci Series : ',end = ' ')\n",
    "\n",
    "for i in range(nterms):\n",
    "    print(rec_fib(i),end = ' ')"
   ]
  },
  {
   "cell_type": "markdown",
   "id": "58869ed5-3e59-415d-8da0-d74afebca843",
   "metadata": {},
   "source": [
    "## Program 25"
   ]
  },
  {
   "cell_type": "markdown",
   "id": "dec98f96-2dc2-484e-b400-1828525098b3",
   "metadata": {},
   "source": [
    "#### write a program to find factorial of a number using recursion"
   ]
  },
  {
   "cell_type": "code",
   "execution_count": 71,
   "id": "9a9fb7fd-066d-4bf3-a5d2-7a744efa54e7",
   "metadata": {},
   "outputs": [
    {
     "name": "stdin",
     "output_type": "stream",
     "text": [
      "number =  3\n"
     ]
    },
    {
     "name": "stdout",
     "output_type": "stream",
     "text": [
      "3! using recursion = 6\n"
     ]
    }
   ],
   "source": [
    "def rec_fact(num):\n",
    "    if num == 1:\n",
    "        return 1\n",
    "    return num * rec_fact(num-1)\n",
    "\n",
    "num = int(input('number = '))\n",
    "if num < 0:\n",
    "    print(f'SorrY ! , factorial for negative numbers doesn\"t  exist ')\n",
    "elif num == 0:\n",
    "    print(f'{num}! = 1')\n",
    "else:\n",
    "    print(f'{num}! using recursion = {rec_fact(num)}')"
   ]
  },
  {
   "cell_type": "markdown",
   "id": "1c33b51d-0e96-41ba-b970-cbe807d03c14",
   "metadata": {},
   "source": [
    "## Program 26"
   ]
  },
  {
   "cell_type": "markdown",
   "id": "6be12993-f16b-467c-89ad-080644286d6e",
   "metadata": {},
   "source": [
    "#### write a program to find Body Mass Index BMI"
   ]
  },
  {
   "cell_type": "code",
   "execution_count": 76,
   "id": "02251129-8f47-4186-ad92-f0cd11eb9d35",
   "metadata": {},
   "outputs": [
    {
     "name": "stdin",
     "output_type": "stream",
     "text": [
      "Enter your height in meters:  1.72\n",
      "Enter your weight in kg:  68\n"
     ]
    },
    {
     "name": "stdout",
     "output_type": "stream",
     "text": [
      "Welcome to the BMI calculator.\n",
      "Your BMI is:  22.99\n",
      "Your weight is normal.\n"
     ]
    }
   ],
   "source": [
    "def bodymassindex(height, weight):\n",
    " return round((weight / height**2),2)\n",
    "\n",
    "h = float(input(\"Enter your height in meters: \"))\n",
    "w = float(input(\"Enter your weight in kg: \"))\n",
    "\n",
    "print(\"Welcome to the BMI calculator.\")\n",
    "bmi = bodymassindex(h, w)\n",
    " \n",
    "print(\"Your BMI is: \", bmi)\n",
    "if bmi <= 18.5:\n",
    "    print(\"You are underweight.\")\n",
    "elif 18.5 < bmi <= 24.9:\n",
    "    print(\"Your weight is normal.\")\n",
    "elif 25 < bmi <= 29.29:\n",
    "    print(\"You are overweight.\")\n",
    "else:\n",
    "    print(\"You are obese.\")"
   ]
  },
  {
   "cell_type": "markdown",
   "id": "2732a049-e91b-43e6-a6b7-9a656e428315",
   "metadata": {},
   "source": [
    "## Program 27"
   ]
  },
  {
   "cell_type": "markdown",
   "id": "eb31235a-c482-4836-9378-cd76c303fb15",
   "metadata": {},
   "source": [
    "#### write a program to calculate natural logarithm of any number"
   ]
  },
  {
   "cell_type": "code",
   "execution_count": 81,
   "id": "ff8ec6bf-f43c-4685-b00c-6fc43a57a681",
   "metadata": {},
   "outputs": [
    {
     "name": "stdin",
     "output_type": "stream",
     "text": [
      "Enter a number to CalCulatE It's logarithmic Value : 1.4\n"
     ]
    },
    {
     "name": "stdout",
     "output_type": "stream",
     "text": [
      "Logarithmic Value of 1.4 = 0.3364722366212129\n"
     ]
    }
   ],
   "source": [
    "import math\n",
    "\n",
    "num = float(input(\"Enter a number to CalCulatE It's logarithmic Value :\"))\n",
    "\n",
    "if num < 0 :\n",
    "    print('negative numbers donT have a logarithmic value , Please Enter a number greater than zero')\n",
    "else:\n",
    "    print(f'Logarithmic Value of {num} = {math.log(num)}')\n",
    "    "
   ]
  },
  {
   "cell_type": "markdown",
   "id": "6491a65e-c83d-462f-93ea-ed3f0bf95498",
   "metadata": {},
   "source": [
    "## Program 28"
   ]
  },
  {
   "cell_type": "markdown",
   "id": "488e3dfb-83a1-4315-94a6-3f72670a9ed4",
   "metadata": {},
   "source": [
    "#### write a program to find cubic sum of first n natural numbers"
   ]
  },
  {
   "cell_type": "code",
   "execution_count": 83,
   "id": "87899396-3477-4c61-a5d5-6ccfa02befbb",
   "metadata": {},
   "outputs": [
    {
     "name": "stdin",
     "output_type": "stream",
     "text": [
      "Enter a number to Cal Cubic_Sum_Of_N_Natural numbers : 3\n"
     ]
    },
    {
     "name": "stdout",
     "output_type": "stream",
     "text": [
      "Cubic_Sum of N natural_number\"s = 36\n"
     ]
    }
   ],
   "source": [
    "def Cub_Sum(num):\n",
    "    cub_sum= 0\n",
    "    for i in range(1,num+1):\n",
    "        cub_sum += i ** 3\n",
    "    return cub_sum\n",
    "    \n",
    "num = int(input('Enter a number to Cal Cubic_Sum_Of_N_Natural numbers :'))\n",
    "print(f'Cubic_Sum of N natural_number\"s = {Cub_Sum(num)}')"
   ]
  },
  {
   "cell_type": "markdown",
   "id": "dffc3f17-31b2-4f04-bc9f-ea7e6ff954df",
   "metadata": {},
   "source": [
    "## Program 29"
   ]
  },
  {
   "cell_type": "markdown",
   "id": "7d00c2d0-7430-4447-9577-76e193c36f78",
   "metadata": {},
   "source": [
    "#### write a program to find Sum_of_array"
   ]
  },
  {
   "cell_type": "code",
   "execution_count": 92,
   "id": "977abd4f-092d-4887-b3b2-d16a16c128ef",
   "metadata": {},
   "outputs": [
    {
     "name": "stdout",
     "output_type": "stream",
     "text": [
      "CalculatE Sum of ArraY \n",
      " 1) UsinG built-In FuncTion \n",
      " 2) WithOut UsinG built-In FuncTions \n"
     ]
    },
    {
     "name": "stdin",
     "output_type": "stream",
     "text": [
      "EnTer Method :  2\n"
     ]
    },
    {
     "name": "stdout",
     "output_type": "stream",
     "text": [
      "calculatinG sum_of_Arr withOut using built_in func  \n",
      "Sum of Array [1, 2, 3, 4, 5, 6, 7, 8, 9]  =  45\n"
     ]
    }
   ],
   "source": [
    "#consider some arr of integers from 1 to 9 \n",
    "print('CalculatE Sum of ArraY ')\n",
    "arr = [1,2,3,4,5,6,7,8,9]\n",
    "print(' 1) UsinG built-In FuncTion ')\n",
    "print(' 2) WithOut UsinG built-In FuncTions ')\n",
    "\n",
    "method = int(input('EnTer Method : '))\n",
    "if method == 1:\n",
    "    #calculate sum_of_Arr using built_in func \"Sum(Arr)\"\n",
    "    print(\"calculatinG sum_of_Arr using built_in func 'Sum(Arr)' \")\n",
    "    print(f'Sum of Array {arr} = {sum(arr)}')\n",
    "elif method == 2:\n",
    "    sum_of_Arr = 0\n",
    "    for x in arr:\n",
    "        sum_of_Arr += x\n",
    "    print(\"calculatinG sum_of_Arr withOut using built_in func  \")\n",
    "    print(f'Sum of Array {arr}  = ',sum_of_Arr)\n",
    "\n",
    "    "
   ]
  },
  {
   "cell_type": "markdown",
   "id": "ef7cb450-35c0-49ef-b554-6df00edf2fd4",
   "metadata": {},
   "source": [
    "## Program 30"
   ]
  },
  {
   "cell_type": "markdown",
   "id": "81cbb4ee-0d7c-4e6d-902f-ea3cd869d618",
   "metadata": {},
   "source": [
    "#### write a program to find largest element in array"
   ]
  },
  {
   "cell_type": "code",
   "execution_count": 96,
   "id": "55ee971d-aa43-4b3b-af7c-1a421d006d66",
   "metadata": {},
   "outputs": [
    {
     "name": "stdout",
     "output_type": "stream",
     "text": [
      "Find Largest Element_of_ArraY \n",
      " 1) UsinG built-In FuncTion \n",
      " 2) WithOut UsinG built-In FuncTions \n"
     ]
    },
    {
     "name": "stdin",
     "output_type": "stream",
     "text": [
      "EnTer Method :  1\n"
     ]
    },
    {
     "name": "stdout",
     "output_type": "stream",
     "text": [
      "findinG largest element of arr using built_in func 'max(Arr)'\n",
      "Largest Element of ArraY [54, 63, 27, 58, 45, 18, 12, 72]  = 72\n"
     ]
    }
   ],
   "source": [
    "#consider some arr of integers  \n",
    "print('Find Largest Element_of_ArraY ')\n",
    "arr = [54,63,27,58,45,18,12,72]\n",
    "\n",
    "print(' 1) UsinG built-In FuncTion ')\n",
    "print(' 2) WithOut UsinG built-In FuncTions ')\n",
    "\n",
    "method = int(input('EnTer Method : '))\n",
    "\n",
    "if method == 1:\n",
    "    #find largest element of arr using built_in func \"max(Arr)\"\n",
    "    print(\"findinG largest element of arr using built_in func 'max(Arr)'\")\n",
    "    print(f'Largest Element of ArraY {arr}  = {max(arr)}')\n",
    "if method == 2:\n",
    "    #find largest element of arr withOut using built_in func\n",
    "    print(\"findinG largest element of arr withOut using built_in func \")\n",
    "    if len(arr) == 0:\n",
    "        print('ArraY is EmptY ')\n",
    "    else:\n",
    "        max_ele = arr[0]\n",
    "        for ele in arr:\n",
    "            if ele > max_ele:\n",
    "                max_ele = ele\n",
    "        print(f'Largest Element of ArraY {arr} =',max_ele)\n",
    "    "
   ]
  },
  {
   "cell_type": "code",
   "execution_count": null,
   "id": "e3aec085-e5e3-447c-8539-71534c9d7bd6",
   "metadata": {},
   "outputs": [],
   "source": []
  },
  {
   "cell_type": "code",
   "execution_count": null,
   "id": "895b3439-df5c-437b-908b-f862ac07a190",
   "metadata": {},
   "outputs": [],
   "source": []
  }
 ],
 "metadata": {
  "kernelspec": {
   "display_name": "Python 3 (ipykernel)",
   "language": "python",
   "name": "python3"
  },
  "language_info": {
   "codemirror_mode": {
    "name": "ipython",
    "version": 3
   },
   "file_extension": ".py",
   "mimetype": "text/x-python",
   "name": "python",
   "nbconvert_exporter": "python",
   "pygments_lexer": "ipython3",
   "version": "3.11.4"
  }
 },
 "nbformat": 4,
 "nbformat_minor": 5
}
